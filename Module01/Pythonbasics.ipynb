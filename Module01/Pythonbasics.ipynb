{
 "cells": [
  {
   "cell_type": "code",
   "execution_count": 5,
   "id": "c1a98d18-80a4-4d09-9a9d-b373af04a6dd",
   "metadata": {},
   "outputs": [
    {
     "name": "stdout",
     "output_type": "stream",
     "text": [
      "5\n",
      "Hello World\n",
      "1.5\n"
     ]
    }
   ],
   "source": [
    "#Creating Variables \n",
    "i = 5 \n",
    "print(i)\n",
    "str1 = \"Hello World\"\n",
    "print(str1)\n",
    "flt = 1.5\n",
    "print(flt)\n"
   ]
  },
  {
   "cell_type": "code",
   "execution_count": 1,
   "id": "cd78740c-825b-4b01-9cd5-6518f765911f",
   "metadata": {},
   "outputs": [
    {
     "name": "stdout",
     "output_type": "stream",
     "text": [
      "Hello World\n"
     ]
    }
   ],
   "source": [
    "#print hello world \n",
    "print(\"Hello World\")"
   ]
  },
  {
   "cell_type": "code",
   "execution_count": 7,
   "id": "93217c49-5117-4d9e-9c55-a68961267742",
   "metadata": {},
   "outputs": [
    {
     "name": "stdout",
     "output_type": "stream",
     "text": [
      "3.14\n"
     ]
    }
   ],
   "source": [
    "#DECLARING AND ASSIGNING VARIABLES TO CONSTANTS \n",
    "\n",
    "PI = 3.14\n",
    "GRAVITY = 9.8\n",
    "print(PI)"
   ]
  },
  {
   "cell_type": "code",
   "execution_count": 8,
   "id": "f17e0f29-169b-4b10-983b-2b505108bdd9",
   "metadata": {},
   "outputs": [
    {
     "name": "stdout",
     "output_type": "stream",
     "text": [
      "Apple\n",
      "Aeroplane\n",
      "5 5 5\n"
     ]
    }
   ],
   "source": [
    "#DECLARING A VARIABLE \n",
    "\n",
    "a = \"Apple\"\n",
    "print(a)\n",
    "#changing value to a variable \n",
    "a = \"Aeroplane\"\n",
    "print(a)\n",
    "#assigning same value to multiplvariables \n",
    "b = c = d = 5\n",
    "print(b,c,d)"
   ]
  },
  {
   "cell_type": "code",
   "execution_count": 12,
   "id": "3b26036f-52ef-426b-babe-607a9f9aec13",
   "metadata": {},
   "outputs": [
    {
     "name": "stdout",
     "output_type": "stream",
     "text": [
      "Equals\n"
     ]
    }
   ],
   "source": [
    "#CONDITIONS IN PYTHON \n",
    "#Checking condiions \n",
    "\n",
    "x = 9\n",
    "y = 9\n",
    "if x == y:\n",
    "   print(\"Equals\")\n",
    "else:\n",
    "   print(\"Not Equals\")"
   ]
  },
  {
   "cell_type": "code",
   "execution_count": 13,
   "id": "6bf803ec-05a3-4a93-88bf-9171d2ce1a5a",
   "metadata": {},
   "outputs": [
    {
     "name": "stdout",
     "output_type": "stream",
     "text": [
      "Not Equals\n"
     ]
    }
   ],
   "source": [
    "\n",
    "x = 3\n",
    "y = 9\n",
    "if x == y:\n",
    "   print(\"Equals\")\n",
    "else:\n",
    "   print(\"Not Equals\")"
   ]
  },
  {
   "cell_type": "code",
   "execution_count": 16,
   "id": "a6cf67a1-ca6d-4e12-90a1-1c797aacf3a9",
   "metadata": {},
   "outputs": [
    {
     "name": "stdout",
     "output_type": "stream",
     "text": [
      "X is greater than y\n"
     ]
    }
   ],
   "source": [
    "#Checking Multiple Conditions \n",
    "\n",
    "x = 9\n",
    "y = 3\n",
    "if x == y:\n",
    "   print(\"Equals\")\n",
    "elif x > y:\n",
    "   print(\"X is greater than y\")\n",
    "elif x < y:\n",
    "    print(\"x is less than y\")"
   ]
  },
  {
   "cell_type": "code",
   "execution_count": 17,
   "id": "fb27917e-b3d9-455f-ac36-ccec5e95d36f",
   "metadata": {},
   "outputs": [
    {
     "name": "stdout",
     "output_type": "stream",
     "text": [
      "x is less than y\n"
     ]
    }
   ],
   "source": [
    "#Checking Multiple Conditions \n",
    "\n",
    "x = 3\n",
    "y = 9\n",
    "if x == y:\n",
    "   print(\"Equals\")\n",
    "elif x > y:\n",
    "   print(\"X is greater than y\")\n",
    "elif x < y:\n",
    "    print(\"x is less than y\")"
   ]
  },
  {
   "cell_type": "code",
   "execution_count": 21,
   "id": "29b24e11-a184-4f68-ab61-dcac9f0ca728",
   "metadata": {},
   "outputs": [
    {
     "name": "stdout",
     "output_type": "stream",
     "text": [
      "Nested\n"
     ]
    }
   ],
   "source": [
    "#Nested conditions \n",
    "x = 9\n",
    "y = 3\n",
    "if x > y:\n",
    "    if x > 5:\n",
    "      print(\"Nested\")\n",
    "    else:\n",
    "       print(\"X is greater than y\")\n",
    "else:\n",
    "    print(\"x is less than y\")\n"
   ]
  },
  {
   "cell_type": "code",
   "execution_count": 22,
   "id": "971af5ba-9fdb-4fe6-bca1-aa07717fb6f9",
   "metadata": {},
   "outputs": [
    {
     "name": "stdout",
     "output_type": "stream",
     "text": [
      "x is less than y\n"
     ]
    }
   ],
   "source": [
    "x = 2\n",
    "y = 3\n",
    "if x > y:\n",
    "    if x > 5:\n",
    "      print(\"Nested\")\n",
    "    else:\n",
    "       print(\"X is greater than y\")\n",
    "else:\n",
    "    print(\"x is less than y\")"
   ]
  },
  {
   "cell_type": "code",
   "execution_count": 23,
   "id": "fb452bbc-00d8-4aac-86f7-fe91aa70b588",
   "metadata": {},
   "outputs": [
    {
     "name": "stdout",
     "output_type": "stream",
     "text": [
      "India\n",
      "UK\n",
      "Singapore\n"
     ]
    }
   ],
   "source": [
    "#for loop in TUPLE \n",
    "CountryTuple = (\"India\", \"UK\", \"Singapore\")\n",
    "for x in CountryTuple:\n",
    "    print(x)"
   ]
  },
  {
   "cell_type": "code",
   "execution_count": 2,
   "id": "12093d87-eb9e-4311-bfbc-bc7238c41286",
   "metadata": {},
   "outputs": [
    {
     "name": "stdout",
     "output_type": "stream",
     "text": [
      "Name John\n",
      "Age 30\n"
     ]
    }
   ],
   "source": [
    "#for loop in sets \n",
    "PersonDict = {\"Name\": \"John\", \"Age\": 30}\n",
    "\n",
    "for x in PersonDict:\n",
    "    print(x, PersonDict[x])"
   ]
  },
  {
   "cell_type": "code",
   "execution_count": 34,
   "id": "5561cdb8-08d1-49b0-a829-46e3f9553c5e",
   "metadata": {},
   "outputs": [
    {
     "name": "stdout",
     "output_type": "stream",
     "text": [
      "N\n",
      "e\n",
      "h\n",
      "a\n"
     ]
    }
   ],
   "source": [
    "#for loop in a string\n",
    "strx = \"Neha\"\n",
    "for x in strx:\n",
    "    print(x)"
   ]
  },
  {
   "cell_type": "code",
   "execution_count": 36,
   "id": "5f1e7140-30e2-4f57-9280-c04896a94a37",
   "metadata": {},
   "outputs": [
    {
     "name": "stdout",
     "output_type": "stream",
     "text": [
      "0 is being processed\n",
      "1 is being processed\n",
      "2 is being processed\n",
      "3 is being processed\n",
      "4 is being processed\n",
      "5 is being processed\n",
      "6 is being processed\n",
      "7 is being processed\n"
     ]
    }
   ],
   "source": [
    "#Numeric Range \n",
    "for x in range(8):\n",
    "    print(x, \"is being processed\")\n",
    "    "
   ]
  },
  {
   "cell_type": "code",
   "execution_count": 37,
   "id": "f1c7721a-35d2-4763-b0dd-821b48337a22",
   "metadata": {},
   "outputs": [
    {
     "name": "stdout",
     "output_type": "stream",
     "text": [
      "3 is being processed\n",
      "4 is being processed\n",
      "5 is being processed\n",
      "6 is being processed\n",
      "7 is being processed\n"
     ]
    }
   ],
   "source": [
    "#custom start and end \n",
    "#Numeric Range \n",
    "for x in range(3, 8):\n",
    "    print(x, \"is being processed\")\n",
    "    "
   ]
  },
  {
   "cell_type": "code",
   "execution_count": 7,
   "id": "46c38d11-903d-43a5-894b-6dd2c5e8af2f",
   "metadata": {},
   "outputs": [
    {
     "name": "stdout",
     "output_type": "stream",
     "text": [
      "5\n",
      "10\n",
      "15\n",
      "20\n",
      "25\n"
     ]
    }
   ],
   "source": [
    "# CUSTOM ITERATOR\n",
    "def cust_range(start_val, end_val, step_val):\n",
    "    while start_val <= end_val:\n",
    "        yield start_val\n",
    "        start_val += step_val\n",
    "for x in cust_range(5, 25, 5):\n",
    "    print(x)\n"
   ]
  },
  {
   "cell_type": "code",
   "execution_count": 8,
   "id": "3cef2749-6c72-4f11-a675-da81e3d1239f",
   "metadata": {},
   "outputs": [
    {
     "name": "stdout",
     "output_type": "stream",
     "text": [
      "5 is being processed\n",
      "20 is being processed\n",
      "Breaking\n"
     ]
    }
   ],
   "source": [
    "#Break, Continue and Pass statements \n",
    "for x in range(5, 31, 15):\n",
    "    print(x, \"is being processed\")\n",
    "    if x == 20:\n",
    "        print(\"Breaking\")\n",
    "        break\n"
   ]
  },
  {
   "cell_type": "code",
   "execution_count": 9,
   "id": "10eacdb6-fc4f-4878-beec-e2f06f61e228",
   "metadata": {},
   "outputs": [
    {
     "name": "stdout",
     "output_type": "stream",
     "text": [
      "20 continue to the loop\n"
     ]
    }
   ],
   "source": [
    "#Continuing to the loop\n",
    "for x in range(5, 31, 15):\n",
    "    if x == 20:\n",
    "        print(x, \"continue to the loop\")\n",
    "        continue\n",
    "        print(x, \"is being processed\")\n",
    "      \n"
   ]
  },
  {
   "cell_type": "code",
   "execution_count": 11,
   "id": "3add0a2b-44e8-4cbc-81b9-4e9a01cd2573",
   "metadata": {},
   "outputs": [
    {
     "name": "stdout",
     "output_type": "stream",
     "text": [
      "20 continue to the loop\n",
      "20 is being processed\n"
     ]
    }
   ],
   "source": [
    "#pass in a loop\n",
    "for x in range(5, 31, 5):\n",
    "     if x == 20:\n",
    "        print(x, \"continue to the loop\")\n",
    "        pass\n",
    "        print(x, \"is being processed\")\n",
    "    "
   ]
  },
  {
   "cell_type": "code",
   "execution_count": null,
   "id": "06ad891d-6c38-4912-a74f-d7ed114bb381",
   "metadata": {},
   "outputs": [],
   "source": [
    "#OPERATORS \n",
    "OPEARTORS ARE OF DIFF TYPES LIKE:\n",
    "Arithmetic Operators\n",
    "Comparison (Relational) Operators\n",
    "Assignment Operators\n",
    "Logical Operators\n",
    "Bitwise Operators\n",
    "Membership Operators\n",
    "Identity Operators\n"
   ]
  },
  {
   "cell_type": "code",
   "execution_count": 20,
   "id": "f6c7fff0-db88-485c-ba6d-b7264e1b24e7",
   "metadata": {},
   "outputs": [
    {
     "name": "stdout",
     "output_type": "stream",
     "text": [
      "a: 21 b: 10 a+b: 31\n",
      "a: 21 b: 10 a+b: 11\n",
      "a: 21 b: 10 a+b: 210\n",
      "a: 21 b: 10 a+b: 1\n",
      "a: 21 b: 10 a+b: 2.1\n",
      "a: 21 b: 10 a+b: False\n",
      "a: 21 b: 10 a+b: 16679880978201\n",
      "a: 21 b: 10 a+b: 2\n"
     ]
    }
   ],
   "source": [
    "#ARITHMETIC OPERATORS \n",
    "a = 21\n",
    "b = 10\n",
    "c = 5\n",
    "\n",
    "c = a + b\n",
    "print (\"a: {} b: {} a+b: {}\".format(a,b,c))\n",
    "\n",
    "c = a - b\n",
    "print (\"a: {} b: {} a+b: {}\".format(a,b,c))\n",
    "\n",
    "c = a * b\n",
    "print (\"a: {} b: {} a+b: {}\".format(a,b,c))\n",
    "\n",
    "c = a % b\n",
    "print (\"a: {} b: {} a+b: {}\".format(a,b,c))\n",
    "\n",
    "c = a / b\n",
    "print (\"a: {} b: {} a+b: {}\".format(a,b,c))\n",
    "\n",
    "c = a == b\n",
    "print (\"a: {} b: {} a+b: {}\".format(a,b,c))\n",
    "\n",
    "c = a ** b\n",
    "print (\"a: {} b: {} a+b: {}\".format(a,b,c))\n",
    "\n",
    "c = a // b\n",
    "print (\"a: {} b: {} a+b: {}\".format(a,b,c))\n"
   ]
  },
  {
   "cell_type": "code",
   "execution_count": 24,
   "id": "667ce192-c88c-4d77-b650-5676e75925a9",
   "metadata": {},
   "outputs": [
    {
     "name": "stdout",
     "output_type": "stream",
     "text": [
      "Line 1 - a is not equal to b\n",
      "Line 2 - a is not equal to b\n",
      "Line 3 - a is not less than b\n",
      "Line 4 - a is greater than b\n",
      "Line 5 - a is either less than or equal to  b\n",
      "Line 6 - b is either greater than  or equal to b\n"
     ]
    }
   ],
   "source": [
    "#Comparison(Relational) Operators \n",
    "a = 25\n",
    "b = 10\n",
    "if ( a == b ):\n",
    "   print (\"Line 1 - a is equal to b\")\n",
    "else:\n",
    "   print (\"Line 1 - a is not equal to b\")\n",
    "\n",
    "if ( a != b ):\n",
    "   print (\"Line 2 - a is not equal to b\")\n",
    "else:\n",
    "   print (\"Line 2 - a is equal to b\")\n",
    "    \n",
    "if ( a < b ):\n",
    "   print (\"Line 3 - a is less than b\" )\n",
    "else:\n",
    "   print (\"Line 3 - a is not less than b\")\n",
    "\n",
    "if ( a > b ):\n",
    "   print (\"Line 4 - a is greater than b\")\n",
    "else:\n",
    "   print (\"Line 4 - a is not greater than b\")\n",
    "\n",
    "a,b=b,a #values of a and b swapped. a becomes 10, b becomes 21\n",
    "\n",
    "if ( a <= b ):\n",
    "   print (\"Line 5 - a is either less than or equal to  b\")\n",
    "else:\n",
    "   print (\"Line 5 - a is neither less than nor equal to  b\")\n",
    "\n",
    "if ( b >= a ):\n",
    "   print (\"Line 6 - b is either greater than  or equal to b\")\n",
    "else:\n",
    "   print (\"Line 6 - b is neither greater than  nor equal to b\")"
   ]
  },
  {
   "cell_type": "code",
   "execution_count": 25,
   "id": "117ceb0c-256a-4b9c-af80-ef8dc79e972a",
   "metadata": {},
   "outputs": [
    {
     "name": "stdout",
     "output_type": "stream",
     "text": [
      "a: 12 b: 20 c : 0\n",
      "a: 12  c = a + b: 32\n",
      "a: 12 c += a: 44\n",
      "a: 12 c *= a: 528\n",
      "a: 12 c /= a : 44.0\n",
      "a: 12 b: 20 c : 2\n",
      "a: 12 c %= a: 2\n",
      "a: 12 c **= a: 4096\n",
      "a: 12 c //= a: 341\n"
     ]
    }
   ],
   "source": [
    "#Assignmen operators \n",
    "a = 12\n",
    "b = 20\n",
    "c = 0\n",
    "\n",
    "print (\"a: {} b: {} c : {}\".format(a,b,c))\n",
    "c = a + b\n",
    "print (\"a: {}  c = a + b: {}\".format(a,c))\n",
    "\n",
    "c += a\n",
    "print (\"a: {} c += a: {}\".format(a,c))\n",
    "\n",
    "c *= a\n",
    "print (\"a: {} c *= a: {}\".format(a,c))\n",
    "\n",
    "c /= a \n",
    "print (\"a: {} c /= a : {}\".format(a,c))\n",
    "\n",
    "c  = 2\n",
    "print (\"a: {} b: {} c : {}\".format(a,b,c))\n",
    "c %= a\n",
    "print (\"a: {} c %= a: {}\".format(a,c))\n",
    "\n",
    "c **= a\n",
    "print (\"a: {} c **= a: {}\".format(a,c))\n",
    "\n",
    "c //= a\n",
    "print (\"a: {} c //= a: {}\".format(a,c))"
   ]
  },
  {
   "cell_type": "code",
   "execution_count": 26,
   "id": "28f181e6-24c9-488c-989d-79079625e728",
   "metadata": {},
   "outputs": [
    {
     "name": "stdout",
     "output_type": "stream",
     "text": [
      "3\n"
     ]
    }
   ],
   "source": [
    "i = 3\n",
    "j = 4\n",
    "print(i%j)"
   ]
  },
  {
   "cell_type": "code",
   "execution_count": 29,
   "id": "7ed8bfce-05a4-43c2-9abd-dd5f99cc05e4",
   "metadata": {},
   "outputs": [
    {
     "name": "stdout",
     "output_type": "stream",
     "text": [
      "Inner nested False Block\n"
     ]
    }
   ],
   "source": [
    "# Nested ‘if’\n",
    "x = 0\n",
    "y = 9\n",
    "if x < y:\n",
    "    if x > 5:\n",
    "        print(\"Nested Condition Met\")\n",
    "    else:\n",
    "        print(\"Inner nested False Block\")\n",
    "else:\n",
    "    print(\"Outer nested False Block\")\n",
    "    "
   ]
  },
  {
   "cell_type": "code",
   "execution_count": 32,
   "id": "c7454cb4-99f6-4bff-9122-8bc9198bf53b",
   "metadata": {},
   "outputs": [
    {
     "name": "stdout",
     "output_type": "stream",
     "text": [
      "id(2) = 140723306197960\n",
      "id(5) = 140723306198056\n"
     ]
    }
   ],
   "source": [
    "# NAMESPACE AND SCOPE \n",
    "a = 2\n",
    "print('id(2) =', id(2))\n",
    "a = 5\n",
    "print('id(5) =', id(5))\n"
   ]
  },
  {
   "cell_type": "code",
   "execution_count": 35,
   "id": "f97b4b56-f09b-4f9c-bc59-098fcc7a72f7",
   "metadata": {},
   "outputs": [
    {
     "name": "stdout",
     "output_type": "stream",
     "text": [
      "a = 10\n",
      "a = 30\n",
      "a = 30\n",
      "a = 30\n"
     ]
    }
   ],
   "source": [
    "#Scope \n",
    "\n",
    "def outer_function():\n",
    "    global a \n",
    "    a = 20\n",
    "    def inner_function():\n",
    "        global a \n",
    "        a = 30\n",
    "        print('a =', a)\n",
    "    inner_function()\n",
    "    print('a =', a)\n",
    "a = 10\n",
    "print('a =', a)\n",
    "outer_function()\n",
    "print('a =', a)\n",
    "    "
   ]
  },
  {
   "cell_type": "code",
   "execution_count": null,
   "id": "f5db15b3-2279-41ea-9ec3-cd6e82348d00",
   "metadata": {},
   "outputs": [],
   "source": []
  }
 ],
 "metadata": {
  "kernelspec": {
   "display_name": "Python 3 (ipykernel)",
   "language": "python",
   "name": "python3"
  },
  "language_info": {
   "codemirror_mode": {
    "name": "ipython",
    "version": 3
   },
   "file_extension": ".py",
   "mimetype": "text/x-python",
   "name": "python",
   "nbconvert_exporter": "python",
   "pygments_lexer": "ipython3",
   "version": "3.13.6"
  }
 },
 "nbformat": 4,
 "nbformat_minor": 5
}
